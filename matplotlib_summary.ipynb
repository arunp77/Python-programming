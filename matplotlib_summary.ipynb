{
 "cells": [
  {
   "cell_type": "markdown",
   "metadata": {},
   "source": [
    "# Matplotlib summary\n",
    "\n",
    "- Once the graph is built, instruction `plt.show` allows to visualize it. \n",
    "- However, with a Jupyter Notebook, adding at the top of the page `%matplotlib` inline automatically plot the figures at each execution of a cell calling a `pyplot` command.\n",
    "\n",
    "    <div style=\"border: 1px solid black; padding: 10px; width: auto; height: auto;\">\n",
    "    <pre>plt.plot(df['x_values'], df['y_values'], c='r', marker = 'o', linewidth=5, label=\"label name\")</pre>\n",
    "    </div>\n",
    "\n",
    "    or\n",
    "\n",
    "    <div style=\"border: 1px solid black; padding: 10px; width: auto; height: auto;\">\n",
    "    <pre>df.plot(x=df['x_values'], y = df['y_values'], title ='Plot title', figsize= (10,6))</pre>\n",
    "    </div>"
   ]
  },
  {
   "cell_type": "markdown",
   "metadata": {},
   "source": [
    "Matplotlib also provides the ability to modify the style of elements on the graphs, which can be very useful for further distinguishing them and even adding additional meaning (such as using a specific color, for example).\n",
    "\n",
    "For each pair (x,y), there is a third optional argument to specify the style and color of the line.\n",
    "\n",
    "**Line style:** Available line styles are:\n",
    "\n",
    "| Line styles | Description |\n",
    "|-------------|-------------|\n",
    "| `-` | continuous line |\n",
    "| `--` | dashed line |\n",
    "| `:` | dotted line |\n",
    "| `-.` | mix of dashes and dots |\n",
    "\n",
    "**Colors:** Available colors are:\n",
    "\n",
    "| Colors |  Description |\n",
    "|--------|--------------|\n",
    "| `b` |  blue |\n",
    "| `g` |  green |\n",
    "| `r` | red |\n",
    "| `c` | cyan |\n",
    "| `m` | magenta |\n",
    "| `y` | yellow |\n",
    "| `k` | black |\n",
    "| `w` | white |\n",
    "\n",
    "The color and the style can be joined together. For example, the default format is `-b`, which is a blue continuous line. \n",
    "\n",
    "**Marker:** It is also possible to add markers with symbols, we can add them to lines or even use them instead of the lines. These symbols can be concatenated with above colors.\n",
    "\n",
    "| Marker | Description |\n",
    "|--------|-------------|\n",
    "| `.`   | point marker |\n",
    "| `,` | pixel marker |\n",
    "| `o` | circle marker |\n",
    "| `v` | triangle_down marker |\n",
    "| `^` | triangle_up marker |\n",
    "| `<` | triangle_left marker |\n",
    "| `>` | triangle_right marker |\n",
    "| `1` | tri_down marker |\n",
    "| `2` | tri_up marker |\n",
    "| `3` | tri_left marker |\n",
    "| `4` | tri_right marker |\n",
    "| `s` | square marker |\n",
    "| `p` | pentagon marker |\n",
    "| `*` | star marker |\n",
    "| `h` | hexagon1 marker |\n",
    "| `H` | hexagon2 marker |\n",
    "| `+` | plus marker |\n",
    "| `x` | x marker |\n",
    "| `D` | diamond marker |\n",
    "| `d` | thin_diamond marker |\n",
    "| `_` | hline marker |\n",
    "\n",
    "One can specify the style of a line chart in one character string following this order: the color, the line style and the markers. For exemple:\n",
    "\n",
    "- `r-*` for a red continuous line with star markers,\n",
    "- `y:d` for a yellow dotted line with diamond markers, etc.."
   ]
  },
  {
   "cell_type": "code",
   "execution_count": 1,
   "metadata": {},
   "outputs": [],
   "source": [
    "%matplotlib inline\n",
    "import matplotlib.pyplot as plt\n",
    "import numpy as np\n",
    "import pandas as pd\n",
    "import seaborn as sns\n"
   ]
  },
  {
   "cell_type": "code",
   "execution_count": null,
   "metadata": {},
   "outputs": [],
   "source": []
  }
 ],
 "metadata": {
  "kernelspec": {
   "display_name": "base",
   "language": "python",
   "name": "python3"
  },
  "language_info": {
   "codemirror_mode": {
    "name": "ipython",
    "version": 3
   },
   "file_extension": ".py",
   "mimetype": "text/x-python",
   "name": "python",
   "nbconvert_exporter": "python",
   "pygments_lexer": "ipython3",
   "version": "3.11.5"
  }
 },
 "nbformat": 4,
 "nbformat_minor": 2
}
