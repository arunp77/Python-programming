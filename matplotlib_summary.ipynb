{
 "cells": [
  {
   "cell_type": "markdown",
   "metadata": {},
   "source": [
    "# Matplotlib summary\n",
    "\n",
    "- Once the graph is built, instruction `plt.show` allows to visualize it. \n",
    "- However, with a Jupyter Notebook, adding at the top of the page `%matplotlib` inline automatically plot the figures at each execution of a cell calling a `pyplot` command.\n",
    "    ```\n",
    "    plt.plot(df['x_values'], df['y_values'], label=\"label name\")\n",
    "    ```\n",
    "    or\n",
    "    ```\n",
    "    df.plot(x=df['x_values'], y = df['y_values'], title ='Plot title', figsize= (10,6))\n",
    "    ```"
   ]
  },
  {
   "cell_type": "markdown",
   "metadata": {},
   "source": []
  },
  {
   "cell_type": "code",
   "execution_count": 1,
   "metadata": {},
   "outputs": [],
   "source": [
    "%matplotlib inline\n",
    "import matplotlib.pyplot as plt\n",
    "import numpy as np\n",
    "import pandas as pd\n",
    "import seaborn as sns\n"
   ]
  },
  {
   "cell_type": "code",
   "execution_count": null,
   "metadata": {},
   "outputs": [],
   "source": []
  }
 ],
 "metadata": {
  "kernelspec": {
   "display_name": "base",
   "language": "python",
   "name": "python3"
  },
  "language_info": {
   "codemirror_mode": {
    "name": "ipython",
    "version": 3
   },
   "file_extension": ".py",
   "mimetype": "text/x-python",
   "name": "python",
   "nbconvert_exporter": "python",
   "pygments_lexer": "ipython3",
   "version": "3.11.5"
  }
 },
 "nbformat": 4,
 "nbformat_minor": 2
}
