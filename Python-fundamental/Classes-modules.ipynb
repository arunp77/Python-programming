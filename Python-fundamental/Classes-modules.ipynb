{
 "cells": [
  {
   "cell_type": "markdown",
   "metadata": {},
   "source": [
    "# Classes and Modules in Python\n",
    "\n",
    "\n",
    "Classes and modules are two fundamental concepts in Python programming that play crucial roles in organizing and structuring code. While they share some similarities, they serve distinct purposes and are employed differently in Python applications.\n",
    "\n",
    "<ul>\n",
    "    <li><h3>Classes:</h3> Classes are the building blocks of object-oriented programming (OOP) in Python. They serve as blueprints for creating objects, which are instances of a class. A class defines the characteristics (attributes) and behaviors (methods) of an object. An object class contains 3 fundamental elements:\n",
    "    <ul>\n",
    "        <li><strong>A constructor: </strong>a function that initializes an object of the class.</li>\n",
    "        <li><strong>Attributes: </strong>Variables specific to the created object used to define its properties and store information.</li>\n",
    "        <li><strong>Methods: </strong>Class-specific functions that allow you to interact with an object.</li>\n",
    "    </ul>\n",
    "    <p>Explanation:</p>\n",
    "        <ul>\n",
    "            <li>Think of a class as a template for creating objects. </li>\n",
    "            <li>Just as a house blueprint defines the structure, layout, and features of a building, a class defines the properties and behaviors of an object.</li>\n",
    "            <li>For instance, a Dog class might define attributes like <code>name</code>, <code>breed</code>, and <code>age</code>, and methods like <code>bark()</code>, <code>wag()</code>, and <code>eat()</code>.</li>\n",
    "            <li><strong>Example: </strong>Creating an object from a class is similar to constructing a building from a blueprint. You call the class and pass any necessary arguments, and Python creates an instance of the class, assigning it the attributes and behaviors defined by the class</li>\n",
    "        </ul>  \n",
    "    </li>\n",
    "    <li><h3>Modules:</h3> Modules are files containing Python code that can be imported into other Python programs. They provide a way to organize and reuse code, making it easier to manage large projects.\n",
    "        <ul>\n",
    "            <li>Imagine a modular building structure, where each module is responsible for a specific component. </li>\n",
    "            <li>Modules in Python work similarly, dividing code into self-contained units that can be easily incorporated into other programs.</li>\n",
    "            <li>Modules encapsulate code, reducing clutter and improving code readability. They also promote code reusability, allowing you to reuse existing code without repeating it across different programs.</li>\n",
    "        </ul>\n",
    "    </li>\n",
    "</ul>\n",
    "<h4>Key Differences:</h4> The primary distinction between classes and modules lies in their purpose and scope.\n",
    "<ul>\n",
    "    <li>Classes are concerned with creating and managing objects, defining their attributes and behaviors. They embody the concept of OOP, enabling programmers to model real-world entities in a concise and structured manner.</li>\n",
    "    <li>Modules, on the other hand, focus on organizing and reusing code fragments. They provide a means to break down large programs into manageable chunks, improving code maintainability and modularity.</li>\n",
    "</ul>\n",
    "\n",
    "<p>In summary, classes and modules are essential tools in Python programming. Classes are for creating and managing objects, while modules are for organizing and reusing code. Each serves a distinct purpose, contributing to the clarity, efficiency, and maintainability of Python applications.</p>\n",
    "\n",
    "#### General Format of each:\n",
    "- For class:\n",
    "```python\n",
    "class ClassName:\n",
    "    # Class attributes (data)\n",
    "\n",
    "    # Class methods (behavior)\n",
    "\n",
    "    # Constructor (initializes object attributes)\n",
    "    def __init__(self, args):\n",
    "        # Assign arguments to object attributes\n",
    "```\n",
    "- FOr object:\n",
    "\n",
    "```python\n",
    "object_name = ClassName(args)\n",
    "```\n",
    "### Examples:\n",
    "1. The constructor of the class of cars is a factory which produces them. The attributes of a car could be its color, its model or its horsepower. The factory must be able to produce a car that matches these specifications. Thus, the factory is analogous to a function which takes as argument the attributes of the car and returns the car built and ready to use.\n",
    "   - The definition of the constructor is done with the method named <code>\\_\\_init\\_\\_</code> which allows us to initialize the attributes of the object that is being built (note that this method takes two underscores before and after <code>init</code>): \n",
    "        ```python\n",
    "        # Definition of the Car class\n",
    "        class Car:\n",
    "            # Definition of the constructor of the Car class\n",
    "            def __init__(self, color, model, horsepower):\n",
    "                # Initialization of the attributes of the class with the arguments of the constructor\n",
    "                self.color = color\n",
    "                self.model = model\n",
    "                self.horsepower = horsepower\n",
    "\n",
    "        ```\n",
    "\n",
    "        The self argument corresponds to the object calling the method. This argument allows us to access the attributes of the object within the method.\n",
    "\n",
    "    - All the methods of a class must have self as the first argument in their definition the argument, because the methods of a class systematically receive the object which calls them as the first argument."
   ]
  },
  {
   "cell_type": "code",
   "execution_count": 1,
   "metadata": {},
   "outputs": [
    {
     "name": "stdout",
     "output_type": "stream",
     "text": [
      "4 + 5i\n",
      "3 - 2i\n"
     ]
    }
   ],
   "source": [
    "### Insert your code here\n",
    "# (a) Define a new Complex class with 2 attributes: part_re, part_im\n",
    "\n",
    "class complex:\n",
    "    def __init__(self, part_re, part_im):\n",
    "        self.part_re = part_re\n",
    "        self.part_im = part_im\n",
    "    # (b) display method\n",
    "    def display(self):\n",
    "        if self.part_im >= 0:\n",
    "            print(f\"{self.part_re} + {self.part_im}i\")\n",
    "        else:\n",
    "            print(f\"{self.part_re} - {abs(self.part_im)}i\")\n",
    "\n",
    "# (c) 4+5i, 3-2i\n",
    "\n",
    "c1 = complex(4, 5)\n",
    "c1.display()\n",
    "\n",
    "c2 = complex(3, -2)\n",
    "c2.display()"
   ]
  },
  {
   "cell_type": "markdown",
   "metadata": {},
   "source": [
    "Once an object of a class is instantiated, it is possible to access its attributes and methods using the .attribute and .method() commands as shown below:"
   ]
  },
  {
   "cell_type": "code",
   "execution_count": 2,
   "metadata": {},
   "outputs": [
    {
     "name": "stdout",
     "output_type": "stream",
     "text": [
      "4 + 5i\n",
      "\n",
      "Real Part: 4\n",
      "Imaginary Part: 5\n"
     ]
    }
   ],
   "source": [
    "# Accessing attributes\n",
    "real_part = c1.part_re\n",
    "imaginary_part = c1.part_im\n",
    "\n",
    "# Accessing the display method\n",
    "c1.display()\n",
    "\n",
    "# Displaying the real and imaginary parts\n",
    "print(f\"\\nReal Part: {real_part}\")\n",
    "print(f\"Imaginary Part: {imaginary_part}\")"
   ]
  },
  {
   "cell_type": "code",
   "execution_count": 3,
   "metadata": {},
   "outputs": [
    {
     "name": "stdout",
     "output_type": "stream",
     "text": [
      "4\n",
      "Dimitri\n",
      "Charles\n",
      "Yohan\n"
     ]
    }
   ],
   "source": [
    "class Vehicle:\n",
    "    def __init__(self, a, b=[]):\n",
    "        self.seats = a\n",
    "        self.passengers = b\n",
    "    def print_passengers(self):\n",
    "        for i in range(len(self.passengers)):\n",
    "            print(self.passengers[i])\n",
    "\n",
    "\n",
    "\n",
    "# Run the cell. You can modify the instantiation so that the changes are reflected.\n",
    "car2 = Vehicle(4,['Dimitri', 'Charles', 'Yohan'])\n",
    "\n",
    "print(car2.seats)          # Display of the 'seats' attribute\n",
    "car2.print_passengers()    # Calling of the print_passengers method"
   ]
  },
  {
   "cell_type": "markdown",
   "metadata": {},
   "source": [
    "The flexibility of classes in object-oriented programming allows the developer to broaden a class by adding new attributes and methods to it. All instances of this class will then be able to call these methods.\n",
    "\n",
    "For example, we can define in the <code>Vehicle</code> class a new <code>add</code> method which will add an individual to the passenger list:"
   ]
  },
  {
   "cell_type": "code",
   "execution_count": 4,
   "metadata": {},
   "outputs": [],
   "source": [
    "class Vehicle:\n",
    "       def __init__(self, a, b = []):\n",
    "           self.seats = a\n",
    "           self.passengers = b\n",
    "       def print_passengers(self):\n",
    "           for i in range (len(self.passengers)):\n",
    "               print (self.passengers[i])\n",
    "       def add(self, name):            #New method\n",
    "           self.passengers.append(name)"
   ]
  },
  {
   "cell_type": "markdown",
   "metadata": {},
   "source": [
    "- Define in the Complex class an add method which takes as argument a Complex object and adds it to the instance calling the method. The result of this sum will be stored in the attributes of the Complex calling the method.\n",
    "- Test the new add method on two instances of the Complex class and display their sum."
   ]
  },
  {
   "cell_type": "code",
   "execution_count": 5,
   "metadata": {},
   "outputs": [
    {
     "name": "stdout",
     "output_type": "stream",
     "text": [
      "Complex 1:\n",
      "4 + 5 i\n",
      "\n",
      "Complex 2:\n",
      "2 - 3 i\n",
      "\n",
      "Sum of Complex 1 and Complex 2:\n",
      "6 + 2 i\n"
     ]
    }
   ],
   "source": [
    "class Complex:\n",
    "    def __init__(self, a, b):\n",
    "        self.part_re = a\n",
    "        self.part_im = b\n",
    "        \n",
    "    def display(self):\n",
    "        if(self.part_im < 0):\n",
    "            print(self.part_re,'-', -self.part_im,'i')\n",
    "        if(self.part_im == 0):\n",
    "            print(self.part_re)\n",
    "        if(self.part_im > 0):\n",
    "            print(self.part_re, '+',self.part_im,'i')\n",
    "            \n",
    "    def add(self , c):\n",
    "        # raise NotImplementedError  #### Insert your code here\n",
    "        \n",
    "        self.part_re += c.part_re\n",
    "        self.part_im += c.part_im\n",
    "\n",
    "# Test the new add method\n",
    "c1 = Complex(4, 5)\n",
    "c2 = Complex(2, -3)\n",
    "\n",
    "print(\"Complex 1:\")\n",
    "c1.display()\n",
    "\n",
    "print(\"\\nComplex 2:\")\n",
    "c2.display()\n",
    "\n",
    "# Add the two complexes and display the result\n",
    "c1.add(c2)\n",
    "\n",
    "print(\"\\nSum of Complex 1 and Complex 2:\")\n",
    "c1.display()\n",
    "        "
   ]
  },
  {
   "cell_type": "markdown",
   "metadata": {},
   "source": [
    "# Inheritance\n",
    "Inheritance is used to create a subclass from an existing class. We say that this new class inherits from the first one because it will automatically have the same attributes and methods.\n",
    "\n",
    "Furthermore, it is possible to add attributes or methods that will be specific to this subclass.\n",
    "\n",
    "**Example:**"
   ]
  },
  {
   "cell_type": "code",
   "execution_count": 6,
   "metadata": {},
   "outputs": [],
   "source": [
    "class Vehicle:\n",
    "    def __init__(self, a, b = []):\n",
    "        self.seats = a\n",
    "        self.passengers = b\n",
    "    def print_passengers(self):\n",
    "        for i in range (len (self.passengers)):\n",
    "            print (self.passengers [i])\n",
    "    def add(self, name):\n",
    "            self.passengers.append (name)"
   ]
  },
  {
   "cell_type": "markdown",
   "metadata": {},
   "source": [
    "We can define a Motorcycle class which inherits from theVehicle class as follows:"
   ]
  },
  {
   "cell_type": "code",
   "execution_count": 9,
   "metadata": {},
   "outputs": [],
   "source": [
    "class Motorcycle(Vehicle):\n",
    "        def __init__(self, b, c):\n",
    "            self.seats = 2\n",
    "            self.passengers = b\n",
    "            self.brand = c\n",
    "\n",
    "Motorcycle = Motorcycle(['Pierre', 'Dimitri'], 'Yamaha')\n",
    "\n"
   ]
  },
  {
   "cell_type": "markdown",
   "metadata": {},
   "source": [
    "By rewriting the \\_\\_init\\_\\_ method, any Motorcycle object will automatically have 2 seats and a new brand attribute."
   ]
  },
  {
   "cell_type": "code",
   "execution_count": 10,
   "metadata": {},
   "outputs": [
    {
     "name": "stdout",
     "output_type": "stream",
     "text": [
      "Pierre\n",
      "Dimitri\n",
      "Yohann\n"
     ]
    }
   ],
   "source": [
    "class Vehicle: # Definition of the Vehicle class\n",
    "    def __init__(self, a, b = []):\n",
    "        self.seats = a       # number of seats in the vehicle  \n",
    "        self.passengers = b  # list containing the names of the passengers\n",
    "    \n",
    "    def print_passengers(self): # Prints the names of the passengers in the vehicle\n",
    "        for i in range(len(self.passengers)):\n",
    "            print(self.passengers[i])\n",
    "    \n",
    "    def add(self,name): # Adds a new passenger to the list of passengers.\n",
    "            self.passengers.append(name)\n",
    "    \n",
    "class Motorcycle(Vehicle):\n",
    "    def __init__(self, b, c):\n",
    "        self.seats = 2      # The number of seats is automatically set to 2 and is not modified by the arguments\n",
    "        self.passengers = b \n",
    "        self.brand = c\n",
    "\n",
    "moto1 = Motorcycle(['Pierre','Dimitri'], 'Yamaha')\n",
    "moto1.add('Yohann')\n",
    "moto1.print_passengers()"
   ]
  },
  {
   "cell_type": "markdown",
   "metadata": {},
   "source": [
    "**Example:** Define in the Motorcycle class anadd method which will add a name passed as an argument to the list of passengers while checking that there are still seats available. If there are no seats left on the Motorcycle, it should display The vehicle is full. If there are any remaining, the method should add the name to the list and display the number of seats remaining."
   ]
  },
  {
   "cell_type": "code",
   "execution_count": 11,
   "metadata": {},
   "outputs": [
    {
     "name": "stdout",
     "output_type": "stream",
     "text": [
      "The vehicle is full.\n",
      "Pierre\n",
      "Dimitri\n",
      "The vehicle is full.\n"
     ]
    }
   ],
   "source": [
    "class Motorcycle(Vehicle):\n",
    "    def __init__(self, b, c):\n",
    "        self.seats = 2\n",
    "        self.passengers = b\n",
    "        self.brand = c\n",
    "    \n",
    "    def add(self, name):\n",
    "        # raise NotImplementedError  #### Insert your code here\n",
    "        if len(self.passengers) < self.seats:\n",
    "            super().add(name)\n",
    "            remaining_seats = self.seats - len(self.passengers)\n",
    "            print(f\"{name} added to the list. {remaining_seats} seat(s) remaining.\")\n",
    "        else:\n",
    "            print(\"The vehicle is full.\")\n",
    "\n",
    "# Test the Motorcycle class\n",
    "moto1 = Motorcycle(['Pierre', 'Dimitri'], 'Yamaha')\n",
    "moto1.add('Yohann')\n",
    "moto1.print_passengers()\n",
    "moto1.add('Sophie')"
   ]
  },
  {
   "cell_type": "code",
   "execution_count": 14,
   "metadata": {},
   "outputs": [
    {
     "name": "stdout",
     "output_type": "stream",
     "text": [
      "Guillaume\n",
      "Charles\n"
     ]
    }
   ],
   "source": [
    "class Vehicle:\n",
    "        def __init__(self, a, b = []):\n",
    "            self.seats = a\n",
    "            self.passengers = b\n",
    "\n",
    "        def print_passengers(self):\n",
    "            for i in range(len(self.passengers)):\n",
    "                print(self.passengers [i])\n",
    "\n",
    "        def add(self, name):\n",
    "            self.passengers.append(name)\n",
    "class Motorcycle(Vehicle):\n",
    "    def __init__(self, b, c):\n",
    "        self.seats = 2\n",
    "        self.passengers = b\n",
    "        self.brand = c\n",
    "\n",
    "    def add(self, name):\n",
    "        if(len(self.passengers) <  self.seats):\n",
    "            self.passengers.append(name)\n",
    "            print('There are', self.seats - len(self.passengers), 'seats left.')\n",
    "        else:\n",
    "            print(\"The vehicle is full.\")\n",
    "\n",
    "car2 = Vehicle(3, ['Antoine', 'Thomas', 'Raphaël'])\n",
    "moto2 = Motorcycle(['Guillaume', 'Charles'], 'Honda')\n",
    "moto2.print_passengers()"
   ]
  },
  {
   "cell_type": "code",
   "execution_count": 15,
   "metadata": {},
   "outputs": [
    {
     "name": "stdout",
     "output_type": "stream",
     "text": [
      "3\n"
     ]
    }
   ],
   "source": [
    "print(car2.seats)"
   ]
  },
  {
   "cell_type": "code",
   "execution_count": 18,
   "metadata": {},
   "outputs": [],
   "source": [
    "car3 = Vehicle(4)\n",
    "car3.print_passengers()"
   ]
  },
  {
   "cell_type": "markdown",
   "metadata": {},
   "source": [
    "# Predefined classes\n",
    "In Python, many predefined classes such as the `list`,`tuple` or `str` classes are regularly used to facilitate the developer's tasks. Like all other classes, they have their own attributes and methods that are available to the user.\n",
    "\n",
    "One of the great interests of object oriented programming is to be able to create classes and share them with other developers. This is done through packages such as `numpy`, `pandas` or `scikit-learn`. All of these packages are actually classes created by other developers in the Python community to give us tools that will make easier to develop our own algorithms.\n",
    "\n",
    "We will first discuss one of the most important predefined object classes, the list class, in order to learn how to use it to its full potential.\n",
    "\n",
    "Next, we will briefly introduce the `DataFrame` class of the `pandas` package and learn to identify and manipulate its methods."
   ]
  },
  {
   "cell_type": "code",
   "execution_count": null,
   "metadata": {},
   "outputs": [],
   "source": []
  }
 ],
 "metadata": {
  "kernelspec": {
   "display_name": "Python 3",
   "language": "python",
   "name": "python3"
  },
  "language_info": {
   "codemirror_mode": {
    "name": "ipython",
    "version": 3
   },
   "file_extension": ".py",
   "mimetype": "text/x-python",
   "name": "python",
   "nbconvert_exporter": "python",
   "pygments_lexer": "ipython3",
   "version": "3.12.0"
  }
 },
 "nbformat": 4,
 "nbformat_minor": 2
}
